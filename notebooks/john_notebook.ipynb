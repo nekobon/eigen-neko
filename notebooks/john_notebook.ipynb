{
  "cells": [
    {
      "cell_type": "markdown",
      "id": "0",
      "metadata": {
        "slideshow": {
          "slide_type": "slide"
        }
      },
      "source": [
        "# Cat Presentation"
      ]
    },
    {
      "cell_type": "markdown",
      "id": "1",
      "metadata": {
        "slideshow": {
          "slide_type": "fragment"
        }
      },
      "source": [
        "Yu Tomita and John McCloskey"
      ]
    },
    {
      "cell_type": "markdown",
      "id": "2",
      "metadata": {
        "slideshow": {
          "slide_type": "fragment"
        }
      },
      "source": [
        "![my image](images/00000100_014.jpg)"
      ]
    },
    {
      "cell_type": "markdown",
      "id": "3",
      "metadata": {
        "slideshow": {
          "slide_type": "slide"
        }
      },
      "source": [
        "# Outline"
      ]
    },
    {
      "cell_type": "markdown",
      "id": "4",
      "metadata": {
        "slideshow": {
          "slide_type": "slide"
        }
      },
      "source": [
        "# Human Face Recognition - John/Yu"
      ]
    },
    {
      "cell_type": "markdown",
      "id": "5",
      "metadata": {
        "slideshow": {
          "slide_type": "slide"
        }
      },
      "source": [
        "# Cat Dataset - Yu"
      ]
    },
    {
      "cell_type": "markdown",
      "id": "6",
      "metadata": {
        "slideshow": {
          "slide_type": "subslide"
        }
      },
      "source": [
        "## What points mean"
      ]
    },
    {
      "cell_type": "markdown",
      "id": "7",
      "metadata": {
        "slideshow": {
          "slide_type": "slide"
        }
      },
      "source": [
        "# Project Flow - Yu"
      ]
    },
    {
      "cell_type": "markdown",
      "id": "8",
      "metadata": {
        "slideshow": {
          "slide_type": "slide"
        }
      },
      "source": [
        "# Dataset Cleaning - Yu"
      ]
    },
    {
      "cell_type": "markdown",
      "id": "9",
      "metadata": {
        "slideshow": {
          "slide_type": "subslide"
        }
      },
      "source": [
        "## Simple Cat Aligner"
      ]
    },
    {
      "cell_type": "markdown",
      "id": "10",
      "metadata": {
        "slideshow": {
          "slide_type": "subslide"
        }
      },
      "source": [
        "## Eye Based Cat Aligner"
      ]
    },
    {
      "cell_type": "markdown",
      "id": "11",
      "metadata": {
        "slideshow": {
          "slide_type": "subslide"
        }
      },
      "source": [
        "## LSTSQ Cat Aligner"
      ]
    },
    {
      "cell_type": "markdown",
      "id": "12",
      "metadata": {
        "slideshow": {
          "slide_type": "slide"
        }
      },
      "source": [
        "# PCA Decomposition - John "
      ]
    },
    {
      "cell_type": "markdown",
      "id": "13",
      "metadata": {
        "slideshow": {
          "slide_type": "subslide"
        }
      },
      "source": [
        "## Construct Training Data"
      ]
    },
    {
      "cell_type": "markdown",
      "id": "14",
      "metadata": {
        "slideshow": {
          "slide_type": "fragment"
        }
      },
      "source": [
        "- We use our aligner to create one row for each file, 64x64 long in grayscale (0-255)"
      ]
    },
    {
      "cell_type": "code",
      "execution_count": null,
      "id": "15",
      "metadata": {
        "slideshow": {
          "slide_type": "fragment"
        }
      },
      "outputs": [],
      "source": [
        "    all_files = list(utils.Paths.gen_files())\n",
        "    files = all_files[:n_samples]\n",
        "    images = [ImageOps.grayscale(aligner.align_one_image(f, 64, 64)) for f in files]\n",
        "    shape = np.array(images[0]).shape\n",
        "    X_train = np.array([np.array(im).flatten() for im in images])\n"
      ]
    },
    {
      "cell_type": "markdown",
      "id": "16",
      "metadata": {
        "slideshow": {
          "slide_type": "subslide"
        }
      },
      "source": [
        "## SVD"
      ]
    },
    {
      "cell_type": "markdown",
      "id": "17",
      "metadata": {
        "slideshow": {
          "slide_type": "fragment"
        }
      },
      "source": [
        "- We get the average image X_mean and subtract it from each image, then take SVD"
      ]
    },
    {
      "cell_type": "code",
      "execution_count": null,
      "id": "18",
      "metadata": {
        "slideshow": {
          "slide_type": "fragment"
        }
      },
      "outputs": [],
      "source": [
        "    X_mean = X_train.mean(axis=0)\n",
        "    U, S, Vt = np.linalg.svd(X_train - X_mean, full_matrices=False)\n"
      ]
    },
    {
      "cell_type": "markdown",
      "id": "19",
      "metadata": {
        "slideshow": {
          "slide_type": "fragment"
        }
      },
      "source": [
        "### Get Eigenfaces"
      ]
    },
    {
      "cell_type": "markdown",
      "id": "20",
      "metadata": {
        "slideshow": {
          "slide_type": "fragment"
        }
      },
      "source": [
        "- Vt is our principle components, so we expand the first 16 back into images to show "
      ]
    },
    {
      "cell_type": "code",
      "execution_count": null,
      "id": "21",
      "metadata": {
        "slideshow": {
          "slide_type": "fragment"
        }
      },
      "outputs": [],
      "source": [
        "    eigenfaces = np.array([dilate_components(arr) for arr in Vt])\n",
        "    eigenface_titles = [\"eigenface %d\" % i for i in range(eigenfaces.shape[0])]\n",
        "    ret = utils.plot_portraits(eigenfaces, shape, 4, 4, eigenface_titles)\n"
      ]
    },
    {
      "cell_type": "markdown",
      "id": "22",
      "metadata": {
        "slideshow": {
          "slide_type": "subslide"
        }
      },
      "source": [
        "## Reconstruct for Each Percentile"
      ]
    },
    {
      "cell_type": "markdown",
      "id": "23",
      "metadata": {
        "slideshow": {
          "slide_type": "fragment"
        }
      },
      "source": [
        "- We then reconstruct each image, using a subset of components with each"
      ]
    },
    {
      "cell_type": "markdown",
      "id": "24",
      "metadata": {
        "slideshow": {
          "slide_type": "fragment"
        }
      },
      "source": [
        "- TODO: add more depth here"
      ]
    },
    {
      "cell_type": "code",
      "execution_count": null,
      "id": "25",
      "metadata": {
        "slideshow": {
          "slide_type": "fragment"
        }
      },
      "outputs": [],
      "source": [
        "    def reconstruct_with_components(image: int | slice, component: int | slice):\n",
        "        principle_components = U[image, component] * S[component]\n",
        "        principle_directions = Vt[component]\n",
        "\n",
        "        return (principle_components @ principle_directions) + X_mean\n"
      ]
    },
    {
      "cell_type": "markdown",
      "id": "26",
      "metadata": {
        "slideshow": {
          "slide_type": "fragment"
        }
      },
      "source": [
        "- Then we construct a nice gif for percentile of principle components"
      ]
    },
    {
      "cell_type": "code",
      "execution_count": null,
      "id": "27",
      "metadata": {
        "slideshow": {
          "slide_type": "fragment"
        }
      },
      "outputs": [],
      "source": [
        "    for n_components in percentiles:\n",
        "        X_final = reconstruct_with_components(slice(10, 30), slice(n_components))\n",
        "        fig = utils.plot_portraits(...)\n"
      ]
    },
    {
      "cell_type": "markdown",
      "id": "28",
      "metadata": {
        "slideshow": {
          "slide_type": "slide"
        }
      },
      "source": [
        "# Results - John"
      ]
    },
    {
      "cell_type": "markdown",
      "id": "29",
      "metadata": {
        "slideshow": {
          "slide_type": "slide"
        }
      },
      "source": "# simple"
    },
    {
      "cell_type": "markdown",
      "id": "30",
      "metadata": {
        "slideshow": {
          "slide_type": "subslide"
        }
      },
      "source": [
        "## simple: sample_processed_images\n",
        "<img src=\"images/simple/sample_processed_images.png\" width=\"500\">"
      ]
    },
    {
      "cell_type": "markdown",
      "id": "31",
      "metadata": {
        "slideshow": {
          "slide_type": "subslide"
        }
      },
      "source": [
        "## simple: eigenfaces\n",
        "<img src=\"images/simple/eigenfaces.png\" width=\"500\">"
      ]
    },
    {
      "cell_type": "markdown",
      "id": "32",
      "metadata": {
        "slideshow": {
          "slide_type": "subslide"
        }
      },
      "source": [
        "## simple: Principle Components\n",
        "<img src=\"images/simple/Principle Components.png\" width=\"500\">"
      ]
    },
    {
      "cell_type": "markdown",
      "id": "33",
      "metadata": {
        "slideshow": {
          "slide_type": "subslide"
        }
      },
      "source": [
        "## simple: iterative_components\n",
        "<img src=\"images/simple/iterative_components.gif\" width=\"500\">"
      ]
    },
    {
      "cell_type": "markdown",
      "id": "34",
      "metadata": {
        "slideshow": {
          "slide_type": "slide"
        }
      },
      "source": "# eyes"
    },
    {
      "cell_type": "markdown",
      "id": "35",
      "metadata": {
        "slideshow": {
          "slide_type": "subslide"
        }
      },
      "source": [
        "## eyes: sample_processed_images\n",
        "<img src=\"images/eyes/sample_processed_images.png\" width=\"500\">"
      ]
    },
    {
      "cell_type": "markdown",
      "id": "36",
      "metadata": {
        "slideshow": {
          "slide_type": "subslide"
        }
      },
      "source": [
        "## eyes: eigenfaces\n",
        "<img src=\"images/eyes/eigenfaces.png\" width=\"500\">"
      ]
    },
    {
      "cell_type": "markdown",
      "id": "37",
      "metadata": {
        "slideshow": {
          "slide_type": "subslide"
        }
      },
      "source": [
        "## eyes: Principle Components\n",
        "<img src=\"images/eyes/Principle Components.png\" width=\"500\">"
      ]
    },
    {
      "cell_type": "markdown",
      "id": "38",
      "metadata": {
        "slideshow": {
          "slide_type": "subslide"
        }
      },
      "source": [
        "## eyes: iterative_components\n",
        "<img src=\"images/eyes/iterative_components.gif\" width=\"500\">"
      ]
    },
    {
      "cell_type": "markdown",
      "id": "39",
      "metadata": {
        "slideshow": {
          "slide_type": "slide"
        }
      },
      "source": "# lstsq_1000"
    },
    {
      "cell_type": "markdown",
      "id": "40",
      "metadata": {
        "slideshow": {
          "slide_type": "subslide"
        }
      },
      "source": [
        "## lstsq_1000: sample_processed_images\n",
        "<img src=\"images/lstsq_1000/sample_processed_images.png\" width=\"500\">"
      ]
    },
    {
      "cell_type": "markdown",
      "id": "41",
      "metadata": {
        "slideshow": {
          "slide_type": "subslide"
        }
      },
      "source": [
        "## lstsq_1000: eigenfaces\n",
        "<img src=\"images/lstsq_1000/eigenfaces.png\" width=\"500\">"
      ]
    },
    {
      "cell_type": "markdown",
      "id": "42",
      "metadata": {
        "slideshow": {
          "slide_type": "subslide"
        }
      },
      "source": [
        "## lstsq_1000: Principle Components\n",
        "<img src=\"images/lstsq_1000/Principle Components.png\" width=\"500\">"
      ]
    },
    {
      "cell_type": "markdown",
      "id": "43",
      "metadata": {
        "slideshow": {
          "slide_type": "subslide"
        }
      },
      "source": [
        "## lstsq_1000: iterative_components\n",
        "<img src=\"images/lstsq_1000/iterative_components.gif\" width=\"500\">"
      ]
    },
    {
      "cell_type": "markdown",
      "id": "44",
      "metadata": {
        "slideshow": {
          "slide_type": "slide"
        }
      },
      "source": "# lstsq_n10000"
    },
    {
      "cell_type": "markdown",
      "id": "45",
      "metadata": {
        "slideshow": {
          "slide_type": "subslide"
        }
      },
      "source": [
        "## lstsq_n10000: sample_processed_images\n",
        "<img src=\"images/lstsq_n10000/sample_processed_images.png\" width=\"500\">"
      ]
    },
    {
      "cell_type": "markdown",
      "id": "46",
      "metadata": {
        "slideshow": {
          "slide_type": "subslide"
        }
      },
      "source": [
        "## lstsq_n10000: eigenfaces\n",
        "<img src=\"images/lstsq_n10000/eigenfaces.png\" width=\"500\">"
      ]
    },
    {
      "cell_type": "markdown",
      "id": "47",
      "metadata": {
        "slideshow": {
          "slide_type": "subslide"
        }
      },
      "source": [
        "## lstsq_n10000: Principle Components\n",
        "<img src=\"images/lstsq_n10000/Principle Components.png\" width=\"500\">"
      ]
    },
    {
      "cell_type": "markdown",
      "id": "48",
      "metadata": {
        "slideshow": {
          "slide_type": "subslide"
        }
      },
      "source": [
        "## lstsq_n10000: iterative_components\n",
        "<img src=\"images/lstsq_n10000/iterative_components.gif\" width=\"500\">"
      ]
    },
    {
      "cell_type": "markdown",
      "id": "49",
      "metadata": {
        "slideshow": {
          "slide_type": "slide"
        }
      },
      "source": [
        "# Conclusion - John"
      ]
    },
    {
      "cell_type": "markdown",
      "id": "50",
      "metadata": {
        "slideshow": {
          "slide_type": "fragment"
        }
      },
      "source": [
        "- Simple works decently"
      ]
    },
    {
      "cell_type": "markdown",
      "id": "51",
      "metadata": {
        "slideshow": {
          "slide_type": "fragment"
        }
      },
      "source": [
        "- Eyes and Least Squares give much better eigenfaces"
      ]
    },
    {
      "cell_type": "markdown",
      "id": "52",
      "metadata": {
        "slideshow": {
          "slide_type": "fragment"
        }
      },
      "source": [
        "- The number of components needed to account for all the noise stays consistent"
      ]
    },
    {
      "cell_type": "markdown",
      "id": "53",
      "metadata": {
        "slideshow": {
          "slide_type": "slide"
        }
      },
      "source": [
        "# Future Directions"
      ]
    },
    {
      "cell_type": "markdown",
      "id": "54",
      "metadata": {
        "slideshow": {
          "slide_type": "fragment"
        }
      },
      "source": [
        "- Use distance from each eigenvector as labels to train a model that would then classify cats into prospective types"
      ]
    },
    {
      "cell_type": "markdown",
      "id": "55",
      "metadata": {
        "slideshow": {
          "slide_type": "fragment"
        }
      },
      "source": [
        "- Use clustering to cluster groups of cats in the first few PCA dimensions and fine commonalities"
      ]
    }
  ],
  "metadata": {
    "celltoolbar": "Slideshow",
    "kernelspec": {
      "display_name": "Python 3.8.12 64-bit ('.env-eigeneko': venv)",
      "language": "python",
      "name": "python3812jvsc74a57bd04eee3b84c16cd653c9409d307a1e0cdaeaa31ed4117853a4ee7c842a85681cd7"
    },
    "language_info": {
      "codemirror_mode": {
        "name": "ipython",
        "version": 3
      },
      "file_extension": ".py",
      "mimetype": "text/x-python",
      "name": "python",
      "nbconvert_exporter": "python",
      "pygments_lexer": "ipython3",
      "version": "3.8.12"
    }
  },
  "nbformat": 4,
  "nbformat_minor": 5
}