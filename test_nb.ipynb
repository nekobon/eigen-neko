{
 "cells": [
  {
   "cell_type": "markdown",
   "id": "coastal-navigation",
   "metadata": {
    "slideshow": {
     "slide_type": "slide"
    }
   },
   "source": [
    "my markdown 1"
   ]
  },
  {
   "cell_type": "markdown",
   "id": "prescription-riverside",
   "metadata": {
    "slideshow": {
     "slide_type": "fragment"
    }
   },
   "source": [
    "my markdown 2"
   ]
  },
  {
   "cell_type": "markdown",
   "id": "worse-dictionary",
   "metadata": {
    "slideshow": {
     "slide_type": "slide"
    }
   },
   "source": [
    "# This is a big title\n"
   ]
  },
  {
   "cell_type": "markdown",
   "id": "functional-power",
   "metadata": {
    "slideshow": {
     "slide_type": "subslide"
    }
   },
   "source": [
    "### This is my \n"
   ]
  },
  {
   "cell_type": "markdown",
   "id": "silent-giant",
   "metadata": {
    "slideshow": {
     "slide_type": "fragment"
    }
   },
   "source": [
    "- test\n"
   ]
  },
  {
   "cell_type": "markdown",
   "id": "intermediate-china",
   "metadata": {
    "slideshow": {
     "slide_type": "fragment"
    }
   },
   "source": [
    "My cell hastwo lines"
   ]
  },
  {
   "cell_type": "code",
   "execution_count": null,
   "id": "uniform-vintage",
   "metadata": {
    "slideshow": {
     "slide_type": "fragment"
    }
   },
   "outputs": [],
   "source": [
    "print(\"hello world\")"
   ]
  }
 ],
 "metadata": {
  "celltoolbar": "Slideshow",
  "kernelspec": {
   "display_name": "Python 3.8.12 64-bit ('.env-eigeneko': venv)",
   "language": "python",
   "name": "python3812jvsc74a57bd04eee3b84c16cd653c9409d307a1e0cdaeaa31ed4117853a4ee7c842a85681cd7"
  },
  "language_info": {
   "codemirror_mode": {
    "name": "ipython",
    "version": 3
   },
   "file_extension": ".py",
   "mimetype": "text/x-python",
   "name": "python",
   "nbconvert_exporter": "python",
   "pygments_lexer": "ipython3",
   "version": "3.8.12"
  }
 },
 "nbformat": 4,
 "nbformat_minor": 5
}
